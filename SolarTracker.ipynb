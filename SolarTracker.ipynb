{
 "cells": [
  {
   "cell_type": "markdown",
   "metadata": {},
   "source": [
    "# Solar Tracker\n",
    "Jupyter notebook for calculating the location of the sun for any date and time, \n",
    "given the observers location on the earths surface.\n",
    "\n",
    "Before I became a software developer, I was a sculptor. I specialised in high-precision sundials, and traded under the name 'Precision Sundials'.\n",
    "\n",
    "This was in the age before smartphones, and when measuring up for large public pieces, I often spent a long time with calculator, maps and a theodolite that I had purchased in an army surplus store. This meant that if I arrived on site on a sunny day with this kit, I could calculate True north to a fraction of a degree, something that cannot be done with a magnetic compass.\n",
    "\n",
    "This notebook is a workbook I will use to refer to in creating the Android app that follows.\n",
    "If smartphones had been available then, and if I had the programming skills that I have now, my life would have been so much easier..."
   ]
  },
  {
   "cell_type": "markdown",
   "metadata": {},
   "source": [
    "## The position of earth relative to the sun\n",
    "\n",
    "In this section, we take the line from sun to earth on new years day (Gregorian) as the origin. \n",
    "\n",
    "We calculate the angular distance that the earth has swept from this origin at the current date and time. \n",
    "\n",
    "This will be measured in radians for ease of calculation."
   ]
  },
  {
   "cell_type": "markdown",
   "metadata": {},
   "source": [
    "\n"
   ]
  },
  {
   "cell_type": "code",
   "execution_count": 1,
   "metadata": {},
   "outputs": [],
   "source": [
    "from datetime import datetime\n",
    "import calendar\n",
    "import math"
   ]
  },
  {
   "cell_type": "markdown",
   "metadata": {},
   "source": [
    "In the section below, comment out the first or third line, depending on whether you want to use the current moment or to specify a time"
   ]
  },
  {
   "cell_type": "code",
   "execution_count": 2,
   "metadata": {},
   "outputs": [
    {
     "name": "stdout",
     "output_type": "stream",
     "text": [
      "Actual Time 2020-09-04 21:23:22.442839\n",
      "Selected Time 2020-01-02 12:00:00\n"
     ]
    }
   ],
   "source": [
    "now = datetime.now()\n",
    "print('Actual Time', now)\n",
    "\n",
    "now = datetime(2020, 1, 2, 12, 0, 0)\n",
    "print('Selected Time', now)"
   ]
  },
  {
   "cell_type": "markdown",
   "metadata": {},
   "source": [
    "How many seconds in this year?"
   ]
  },
  {
   "cell_type": "code",
   "execution_count": 3,
   "metadata": {},
   "outputs": [
    {
     "name": "stdout",
     "output_type": "stream",
     "text": [
      "Number of days in this year 366\n",
      "Number of seconds in this year 31622400\n"
     ]
    }
   ],
   "source": [
    "is_leap = calendar.isleap(now.year)\n",
    "length_of_year = 366 if is_leap else 365\n",
    "print('Number of days in this year', length_of_year)\n",
    "\n",
    "# Mulitply number of days in year by number of seconds in a day\n",
    "# to get number of seconds in a year.\n",
    "length_of_year *= 24 * 60 * 60\n",
    "print('Number of seconds in this year', length_of_year)"
   ]
  },
  {
   "cell_type": "markdown",
   "metadata": {},
   "source": [
    "How many seconds have passed since noon on January first?"
   ]
  },
  {
   "cell_type": "code",
   "execution_count": 4,
   "metadata": {},
   "outputs": [
    {
     "name": "stdout",
     "output_type": "stream",
     "text": [
      "Seconds elapsed 86400.0\n"
     ]
    }
   ],
   "source": [
    "jan1 = datetime(now.year, 1, 1, 12, 0, 0)\n",
    "seconds_elapsed = now.timestamp() - jan1.timestamp()\n",
    "print(f'Seconds elapsed {seconds_elapsed}')"
   ]
  },
  {
   "cell_type": "markdown",
   "metadata": {},
   "source": [
    "Express this in radians, giving the the angle off the sun relative to noon Jan 1"
   ]
  },
  {
   "cell_type": "code",
   "execution_count": 5,
   "metadata": {},
   "outputs": [
    {
     "name": "stdout",
     "output_type": "stream",
     "text": [
      "As a fraction of a year: 0.0027\n",
      "In degrees:1.0\n",
      "In radians:0.0172\n"
     ]
    }
   ],
   "source": [
    "fraction = seconds_elapsed/length_of_year\n",
    "print(f'As a fraction of a year: {fraction:.4f}')\n",
    "print(f'In degrees:{fraction * 360:.1f}')\n",
    "\n",
    "angle = fraction * 2 * math.pi\n",
    "print(f'In radians:{angle:.4f}')"
   ]
  },
  {
   "cell_type": "markdown",
   "metadata": {},
   "source": [
    "## The Equation of Time\n",
    "\n",
    "In this section, we make a small adjustment to the angle we just calculated. \n",
    "This corrects a slight discrepancy between clock and solar time. \n",
    "\n",
    "It takes the same values at any given date year after year. The maximum correction occurs on 3 November, and amounts to just under sixteen and a half minutes, meaning that solar time is ahead of clock time by about 16 minutes on this date every year. \n",
    "\n",
    "The correction varies as the year progresses, and is the same on any given calendar date year after year, give or take a few seconds.\n",
    "\n",
    "For a good account of the Equation of Time, see https://en.wikipedia.org/wiki/Equation_of_time\n",
    "\n",
    "This section can be ignored if you do not need a high-accuracy calculation for the position of the sun. For example, if you are simply measuring the length of a shadow, this correction will have little impact on the calculated length, and can be ignored."
   ]
  }
 ],
 "metadata": {
  "kernelspec": {
   "display_name": "Python 3",
   "language": "python",
   "name": "python3"
  },
  "language_info": {
   "codemirror_mode": {
    "name": "ipython",
    "version": 3
   },
   "file_extension": ".py",
   "mimetype": "text/x-python",
   "name": "python",
   "nbconvert_exporter": "python",
   "pygments_lexer": "ipython3",
   "version": "3.7.3"
  }
 },
 "nbformat": 4,
 "nbformat_minor": 2
}
