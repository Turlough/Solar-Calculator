{
 "cells": [
  {
   "cell_type": "markdown",
   "metadata": {},
   "source": [
    "# Solar Tracker\n",
    "Jupyter notebook for calculating the location of the sun for any date and time, \n",
    "given the observers location on the earths surface.\n",
    "\n",
    "Before I became a software developer, I was a sculptor. I specialised in high-precision sundials, and traded under the name 'Precision Sundials'.\n",
    "\n",
    "This was in the age before smartphones, and when measuring up for large public pieces, I often spent a long time with calculator, maps and a theodolite that I had purchased in an army surplus store. This meant that if I arrived on site on a sunny day with this kit, I could calculate True north to a fraction of a degree, something that cannot be done with a magnetic compass.\n",
    "\n",
    "This notebook is a workbook I will use to refer to in creating the Android app that follows.\n",
    "If smartphones had been available then, and if I had the programming skills that I have now, my life would have been so much easier...\n",
    "\n",
    "Anyway, to just use this, edit the value of 'now' in the formula below. You will, of course, need to be running this as a Jupyter notebook."
   ]
  },
  {
   "cell_type": "markdown",
   "metadata": {},
   "source": [
    "## Setup\n",
    "\n",
    "We will add the basic information such as date, time and location here, to keep them all together...\n",
    "\n",
    "Use degrees decimal for latitude and longitude, to prevent confusion over terms 'minutes' and 'seconds', which are also angular measures. In this notbook, they will be used for time only, and angles will be displayed and entered by user in degrees decimal. Calculations will use radians instead."
   ]
  },
  {
   "cell_type": "code",
   "execution_count": 1,
   "metadata": {},
   "outputs": [
    {
     "name": "stdout",
     "output_type": "stream",
     "text": [
      "Selected Time: 2020-06-22 12:00:00\n",
      "Location: 51.9 7.5\n"
     ]
    }
   ],
   "source": [
    "from datetime import datetime\n",
    "import datetime as dt\n",
    "import calendar\n",
    "import math\n",
    "\n",
    "now = datetime(2020, 6, 22, 12, 0, 0)\n",
    "print('Selected Time:', now)\n",
    "\n",
    "latitude, longitude = 51.9, 7.5\n",
    "print('Location:', latitude, longitude)\n"
   ]
  },
  {
   "cell_type": "markdown",
   "metadata": {},
   "source": [
    "## The position of earth relative to the sun\n",
    "\n",
    "In this section, we take the line from sun to earth on new years day (Gregorian) as the origin. \n",
    "\n",
    "We calculate the angular distance that the earth has swept from this origin at the current date and time. \n",
    "\n",
    "This will be measured in radians for ease of calculation."
   ]
  },
  {
   "cell_type": "markdown",
   "metadata": {},
   "source": [
    "\n"
   ]
  },
  {
   "cell_type": "markdown",
   "metadata": {},
   "source": [
    "How many seconds in this year?"
   ]
  },
  {
   "cell_type": "code",
   "execution_count": 2,
   "metadata": {},
   "outputs": [
    {
     "name": "stdout",
     "output_type": "stream",
     "text": [
      "Number of days in this year 366\n",
      "Number of seconds in this year 31622400\n"
     ]
    }
   ],
   "source": [
    "is_leap = calendar.isleap(now.year)\n",
    "length_of_year = 366 if is_leap else 365\n",
    "print('Number of days in this year', length_of_year)\n",
    "\n",
    "# Mulitply number of days in year by number of seconds in a day\n",
    "# to get number of seconds in a year.\n",
    "length_of_year *= 24 * 60 * 60\n",
    "print('Number of seconds in this year', length_of_year)"
   ]
  },
  {
   "cell_type": "markdown",
   "metadata": {},
   "source": [
    "How many seconds have passed since noon on January first?"
   ]
  },
  {
   "cell_type": "code",
   "execution_count": 3,
   "metadata": {},
   "outputs": [
    {
     "name": "stdout",
     "output_type": "stream",
     "text": [
      "Seconds elapsed 14943600.0\n"
     ]
    }
   ],
   "source": [
    "jan1 = datetime(now.year, 1, 1, 12, 0, 0)\n",
    "seconds_elapsed = now.timestamp() - jan1.timestamp()\n",
    "print(f'Seconds elapsed {seconds_elapsed}')"
   ]
  },
  {
   "cell_type": "markdown",
   "metadata": {},
   "source": [
    "Express this in radians, giving the the angle off the sun relative to noon Jan 1"
   ]
  },
  {
   "cell_type": "code",
   "execution_count": 4,
   "metadata": {},
   "outputs": [
    {
     "name": "stdout",
     "output_type": "stream",
     "text": [
      "As a fraction of a year: 0.4726\n",
      "In degrees: 170.1\n",
      "In radians: 2.9692\n"
     ]
    }
   ],
   "source": [
    "fraction = seconds_elapsed/length_of_year\n",
    "print(f'As a fraction of a year: {fraction:.4f}')\n",
    "print(f'In degrees: {fraction * 360:.1f}')\n",
    "\n",
    "angle = fraction * 2 * math.pi\n",
    "print(f'In radians: {angle:.4f}')"
   ]
  },
  {
   "cell_type": "markdown",
   "metadata": {},
   "source": [
    "## Longitude, Time Zones\n",
    "\n",
    "For simplicity, the previous section discounted your location on the surface of the earth, and artificialities introduced with Time Zones (https://en.wikipedia.org/wiki/Time_zone). \n",
    "\n",
    "My sister lives in Greenwich. As it happens, Greenwich is at zero degrees longitude. No corrections need be made if you live on the same meridian (line north to south) as Greenwich.\n",
    "\n",
    "I live in Youghal, Ireland, 7.5 degrees west of Greenwich. Because we live in the same Time Zone, our clocks tell the same time, but solar phenomena such as times of sunset, sunrise and noon (when the sun is due south) are all a half hour later here than in Greenwich.\n",
    "\n",
    "If she phones me at sunset in Greenwich, the sun is still above the horizon here, and will take another half hour before it sets here. For my sister, the sun is due south at exactly 12 pm. However, it will not be due south of me until 12:30, because the earth has a bit more spinning to do before that can happen. Both our clocks say 12 pm. For her the sun is south. For me, it will not be south for another half hour.\n",
    "\n",
    "As a Sundial Maker, we use the term 'Local Time' to refer to the time as told by the sun. In Local Time, noon is always 12 pm- 12 pm local time is the time when the sun is south. For me, that happens at 12.30 pm clock time. The difference between clock time and local time is exaclty a half hour, because I live 7.5 degrees west of Greenwich.\n",
    "\n",
    "The rule for converting from Greenwich to Local time is: Subtract 4 minutes for every degree west of Greenwich to convert from Greenwich to Local time.\n",
    "-    1/4 degree => 1 minute\n",
    "-    1 degree   => 4 minutes\n",
    "-    15 degrees => 1 hour\n",
    " \n",
    "What does this mean for you? It means you must make an adjustmet to the time on your clock to correct it clock time. Look up your longitude on the map, and enter it below in degrees decimal format (maps often don't use degrees decimal, so you may need to convert). Use a negative number if west of Grenwich, positive if to the east.\n"
   ]
  },
  {
   "cell_type": "code",
   "execution_count": 5,
   "metadata": {},
   "outputs": [
    {
     "name": "stdout",
     "output_type": "stream",
     "text": [
      "Clock Time 2020-06-22 12:00:00\n",
      "Local time 2020-06-22 12:30:00\n"
     ]
    }
   ],
   "source": [
    "seconds = longitude * 4 * 60\n",
    "diff = dt.timedelta(seconds = seconds)\n",
    "local = now + diff\n",
    "print('Clock Time', now)\n",
    "print('Local time',local)"
   ]
  },
  {
   "cell_type": "markdown",
   "metadata": {},
   "source": [
    "## Apologies...\n",
    "\n",
    "The sections 'Equation of Time' and 'Declination of the Sun' contain formula with lots of 'magic numbers'. I have included a description of what they are calculating, what they are for, but I have not explained how they have been derived.\n",
    "\n",
    "I don't want to make promises I don't keep, but I would like to show the derivation of these in a separate notebook, but for now, let's stick to the point."
   ]
  },
  {
   "cell_type": "markdown",
   "metadata": {},
   "source": [
    "## The Equation of Time\n",
    "\n",
    "In this section, we make a small adjustment to the angle we just calculated. \n",
    "This corrects a slight discrepancy between clock and solar time. \n",
    "\n",
    "It takes the same values at any given date year after year. The maximum correction occurs on 3 November, and amounts to just under sixteen and a half minutes, meaning that solar time is ahead of clock time by about 16 minutes on this date every year. \n",
    "\n",
    "The correction varies as the year progresses, and is the same on any given calendar date year after year, give or take a few seconds.\n",
    "\n",
    "For a good account of the Equation of Time, see https://en.wikipedia.org/wiki/Equation_of_time. In summary, the equation combines two calculations: one is seasonal and purely caused by the geometry of a rotating sphere (the earth), the other is a smaller asymmetrical adjustment due to the fact that the orbit is not perfectly circular.\n",
    "\n",
    "This section can be ignored if you do not need a high-accuracy calculation. For example, if you are simply measuring the length of a shadow, this correction will have little impact on the calculated length, and can be ignored. \n",
    "\n",
    "However, on a sundial, a difference of a quarter hour can be noticeable. For this reason, the Prudent Sundialmaker always includes a graph of the Equation of Time on his sundials. "
   ]
  },
  {
   "cell_type": "markdown",
   "metadata": {},
   "source": [
    "The calculation below show the number of minutes solar time is ahead of clock time, if positive. A positive value means that you need to add this number of minutes to clock time to get solar time. A negative value means you must subtract to get solar time."
   ]
  },
  {
   "cell_type": "code",
   "execution_count": 6,
   "metadata": {},
   "outputs": [
    {
     "name": "stdout",
     "output_type": "stream",
     "text": [
      "Equation of Time, in minutes: -1.7\n"
     ]
    }
   ],
   "source": [
    "eq_time = 229.18 * (0.000075 + 0.001868 * math.cos(angle) - 0.032077 * math.sin(angle) - 0.014615 * \n",
    "                    math.cos(2 * angle) - 0.040849 * math.sin(2 * angle) )\n",
    "print(f'Equation of Time, in minutes: {eq_time:.1f}')"
   ]
  },
  {
   "cell_type": "markdown",
   "metadata": {},
   "source": [
    "## Declination of the sun\n",
    "\n",
    "In this section, we caclulate the declination of the sun. This is the band of latitude over which the sun shines directly at this time of year.\n",
    "\n",
    "At equinoxes, this is zero, meaning the sun is directly over the equator. At solstices, it reaches it's maximum and minimum values of 23.7 degrees north or south of the equator, depending on which solstice (south in midwinter, north in midsummer).\n"
   ]
  },
  {
   "cell_type": "code",
   "execution_count": 7,
   "metadata": {},
   "outputs": [
    {
     "name": "stdout",
     "output_type": "stream",
     "text": [
      "Declination radians: 0.4130\n",
      "Declination degrees: 23.7\n"
     ]
    }
   ],
   "source": [
    "declination = 0.006918 - 0.399912 * math.cos(angle) + 0.070257 * math.sin(angle) \n",
    "- 0.006758 * math.cos(2 * angle) + 0.000907 * math.sin(2 * angle) \n",
    "- 0.002697 * math.cos(3 * angle) + 0.00148 * math.sin (3 * angle)\n",
    "\n",
    "print(f'Declination radians: {declination:.4f}')\n",
    "print(f'Declination degrees: {declination * 180/math.pi:.1f}')"
   ]
  },
  {
   "cell_type": "code",
   "execution_count": null,
   "metadata": {},
   "outputs": [],
   "source": []
  }
 ],
 "metadata": {
  "kernelspec": {
   "display_name": "Python 3",
   "language": "python",
   "name": "python3"
  },
  "language_info": {
   "codemirror_mode": {
    "name": "ipython",
    "version": 3
   },
   "file_extension": ".py",
   "mimetype": "text/x-python",
   "name": "python",
   "nbconvert_exporter": "python",
   "pygments_lexer": "ipython3",
   "version": "3.7.3"
  }
 },
 "nbformat": 4,
 "nbformat_minor": 2
}
